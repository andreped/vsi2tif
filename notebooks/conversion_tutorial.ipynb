{
 "cells": [
  {
   "cell_type": "markdown",
   "metadata": {},
   "source": [
    "## Tutorial on converting WSIs\n",
    "\n",
    "In this notebook, we will demonstrate how to convert any whole slide image (WSI)\n",
    "from Olympus' cellSens VSI format to a TIFF format.\n",
    "\n",
    "Converting to this new format, allows the images to be seemlessly used with any\n",
    "other WSI processing framework, like OpenSlide, FAST, and cuCIM."
   ]
  },
  {
   "cell_type": "code",
   "execution_count": 1,
   "metadata": {},
   "outputs": [
    {
     "name": "stdout",
     "output_type": "stream",
     "text": [
      "\u001b[33mWarning:\u001b[0m Not upgrading zulu@8, the latest version is already installed\n",
      "\u001b[33mWarning:\u001b[0m vips 8.15.3 is already installed and up-to-date.\n",
      "To reinstall 8.15.3, run:\n",
      "  brew reinstall vips\n"
     ]
    }
   ],
   "source": [
    "# Install JDK-8 and vips dependencies (here: macOS)\n",
    "!brew install --cask zulu@8\n",
    "!brew install vips"
   ]
  },
  {
   "cell_type": "code",
   "execution_count": 2,
   "metadata": {},
   "outputs": [
    {
     "name": "stdout",
     "output_type": "stream",
     "text": [
      "URL transformed to HTTPS due to an HSTS policy\n",
      "--2024-09-02 22:32:19--  https://downloads.openmicroscopy.org/latest/bio-formats5.6/artifacts/bftools.zip\n",
      "Resolving downloads.openmicroscopy.org (downloads.openmicroscopy.org)... 134.36.65.239\n",
      "Connecting to downloads.openmicroscopy.org (downloads.openmicroscopy.org)|134.36.65.239|:443... connected.\n",
      "HTTP request sent, awaiting response... 303 See Other\n",
      "Location: https://downloads.openmicroscopy.org/bio-formats/5.6/artifacts/bftools.zip [following]\n",
      "--2024-09-02 22:32:19--  https://downloads.openmicroscopy.org/bio-formats/5.6/artifacts/bftools.zip\n",
      "Connecting to downloads.openmicroscopy.org (downloads.openmicroscopy.org)|134.36.65.239|:443... connected.\n",
      "HTTP request sent, awaiting response... 301 Moved Permanently\n",
      "Location: https://downloads.openmicroscopy.org/bio-formats/5.6.0/artifacts/bftools.zip [following]\n",
      "--2024-09-02 22:32:19--  https://downloads.openmicroscopy.org/bio-formats/5.6.0/artifacts/bftools.zip\n",
      "Connecting to downloads.openmicroscopy.org (downloads.openmicroscopy.org)|134.36.65.239|:443... connected.\n",
      "HTTP request sent, awaiting response... 200 OK\n",
      "Length: 30031157 (29M) [application/zip]\n",
      "Saving to: ‘bftools.zip’\n",
      "\n",
      "bftools.zip         100%[===================>]  28,64M  3,36MB/s    in 8,9s    \n",
      "\n",
      "2024-09-02 22:32:29 (3,23 MB/s) - ‘bftools.zip’ saved [30031157/30031157]\n",
      "\n",
      "Archive:  bftools.zip\n",
      "   creating: bftools/\n",
      "  inflating: bftools/bf.bat          \n",
      "  inflating: bftools/bfconvert.bat   \n",
      "  inflating: bftools/config.bat      \n",
      "  inflating: bftools/config.sh       \n",
      "  inflating: bftools/domainlist.bat  \n",
      "  inflating: bftools/formatlist.bat  \n",
      "  inflating: bftools/ijview.bat      \n",
      "  inflating: bftools/logback.xml     \n",
      "  inflating: bftools/mkfake.bat      \n",
      "  inflating: bftools/showinf.bat     \n",
      "  inflating: bftools/tiffcomment.bat  \n",
      "  inflating: bftools/xmlindent.bat   \n",
      "  inflating: bftools/xmlvalid.bat    \n",
      "  inflating: bftools/bf.sh           \n",
      "  inflating: bftools/bfconvert       \n",
      "  inflating: bftools/domainlist      \n",
      "  inflating: bftools/formatlist      \n",
      "  inflating: bftools/ijview          \n",
      "  inflating: bftools/mkfake          \n",
      "  inflating: bftools/showinf         \n",
      "  inflating: bftools/tiffcomment     \n",
      "  inflating: bftools/xmlindent       \n",
      "  inflating: bftools/xmlvalid        \n",
      "  inflating: bftools/NEWS.rst        \n",
      "  inflating: bftools/bioformats_package.jar  \n"
     ]
    }
   ],
   "source": [
    "# Configure bftools\n",
    "!wget http://downloads.openmicroscopy.org/latest/bio-formats5.6/artifacts/bftools.zip\n",
    "!unzip bftools.zip"
   ]
  },
  {
   "cell_type": "code",
   "execution_count": 3,
   "metadata": {},
   "outputs": [
    {
     "name": "stdout",
     "output_type": "stream",
     "text": [
      "Collecting git+https://github.com/andreped/vsi2tif\n",
      "  Cloning https://github.com/andreped/vsi2tif to /private/var/folders/k0/9nz8fj4d1dx9g7ywxfnr8c5h0000gq/T/pip-req-build-dk4nx4rz\n",
      "  Running command git clone --filter=blob:none --quiet https://github.com/andreped/vsi2tif /private/var/folders/k0/9nz8fj4d1dx9g7ywxfnr8c5h0000gq/T/pip-req-build-dk4nx4rz\n",
      "  Resolved https://github.com/andreped/vsi2tif to commit 8d969958ea900ba03cd103a4eb7e60b8d7353222\n",
      "  Preparing metadata (setup.py) ... \u001b[?25ldone\n",
      "\u001b[?25hRequirement already satisfied: tqdm in /Users/andreped/workspace/vsi2tif/venv/lib/python3.10/site-packages (from vsi2tif==0.1.0) (4.66.5)\n",
      "Requirement already satisfied: numpy in /Users/andreped/workspace/vsi2tif/venv/lib/python3.10/site-packages (from vsi2tif==0.1.0) (2.1.0)\n",
      "\n",
      "\u001b[1m[\u001b[0m\u001b[34;49mnotice\u001b[0m\u001b[1;39;49m]\u001b[0m\u001b[39;49m A new release of pip is available: \u001b[0m\u001b[31;49m23.0.1\u001b[0m\u001b[39;49m -> \u001b[0m\u001b[32;49m24.2\u001b[0m\n",
      "\u001b[1m[\u001b[0m\u001b[34;49mnotice\u001b[0m\u001b[1;39;49m]\u001b[0m\u001b[39;49m To update, run: \u001b[0m\u001b[32;49mpip install --upgrade pip\u001b[0m\n"
     ]
    }
   ],
   "source": [
    "## Install vsi2tif from source\n",
    "!pip install git+https://github.com/andreped/vsi2tif"
   ]
  },
  {
   "cell_type": "code",
   "execution_count": 4,
   "metadata": {},
   "outputs": [
    {
     "name": "stdout",
     "output_type": "stream",
     "text": [
      "--2024-09-02 22:33:02--  https://openslide.cs.cmu.edu/download/openslide-testdata/Olympus/OS-2.zip\n",
      "Resolving openslide.cs.cmu.edu (openslide.cs.cmu.edu)... 128.2.209.93\n",
      "Connecting to openslide.cs.cmu.edu (openslide.cs.cmu.edu)|128.2.209.93|:443... connected.\n",
      "HTTP request sent, awaiting response... 200 OK\n",
      "Length: 309552104 (295M) [application/zip]\n",
      "Saving to: ‘OS-2.zip’\n",
      "\n",
      "OS-2.zip            100%[===================>] 295,21M  3,45MB/s    in 96s     \n",
      "\n",
      "2024-09-02 22:34:39 (3,07 MB/s) - ‘OS-2.zip’ saved [309552104/309552104]\n",
      "\n",
      "Archive:  OS-2.zip\n",
      "  inflating: OS-2.vsi                \n",
      "   creating: _OS-2_/\n",
      "   creating: _OS-2_/stack10001/\n",
      "  inflating: _OS-2_/stack10001/frame_t.ets  \n",
      "   creating: _OS-2_/stack1/\n",
      "  inflating: _OS-2_/stack1/frame_t.ets  \n"
     ]
    }
   ],
   "source": [
    "# Download test sample\n",
    "!wget https://openslide.cs.cmu.edu/download/openslide-testdata/Olympus/OS-2.zip\n",
    "!unzip OS-2.zip"
   ]
  },
  {
   "cell_type": "code",
   "execution_count": 5,
   "metadata": {},
   "outputs": [
    {
     "name": "stdout",
     "output_type": "stream",
     "text": [
      "total 684760\n",
      "-rw-rw-r--   1 apedersen  staff   1.1M Oct 31  2012 OS-2.vsi\n",
      "drwxrwxr-x   4 apedersen  staff   128B Nov  2  2012 \u001b[34m_OS-2_\u001b[m\u001b[m\n",
      "-rw-r--r--   1 apedersen  staff   295M Jan 12  2014 OS-2.zip\n",
      "drwxr-xr-x  27 apedersen  staff   864B Aug 14  2017 \u001b[34mbftools\u001b[m\u001b[m\n",
      "-rw-r--r--   1 apedersen  staff    29M Aug 14  2017 bftools.zip\n",
      "drwxr-xr-x  16 apedersen  staff   512B Sep  2 22:17 \u001b[34m..\u001b[m\u001b[m\n",
      "-rw-r--r--   1 apedersen  staff   2.1K Sep  2 22:29 conversion_tutorial.ipynb\n",
      "drwxr-xr-x   8 apedersen  staff   256B Sep  2 22:34 \u001b[34m.\u001b[m\u001b[m\n"
     ]
    }
   ],
   "source": [
    "!ls -haltr"
   ]
  },
  {
   "cell_type": "code",
   "execution_count": 6,
   "metadata": {},
   "outputs": [
    {
     "name": "stdout",
     "output_type": "stream",
     "text": [
      "usage: vsi2tif [-h] -i INPUT -o OUTPUT -b BFCONVERT [-c COMPRESSION]\n",
      "               [-s TILESIZE] [-p PLANE] [-q QUALITY] [-m MAX_MEM] [-v VERBOSE]\n",
      "\n",
      "vsi2tif - simple tool for converting images from cellSens VSI to Generic TIFF\n",
      "\n",
      "options:\n",
      "  -h, --help            show this help message and exit\n",
      "  -i INPUT, --input INPUT\n",
      "                        folder with input files\n",
      "  -o OUTPUT, --output OUTPUT\n",
      "                        folder for output files\n",
      "  -b BFCONVERT, --bfconvert BFCONVERT\n",
      "                        path to bfconvert tool\n",
      "  -c COMPRESSION, --compression COMPRESSION\n",
      "                        compression technique for final image\n",
      "  -s TILESIZE, --tilesize TILESIZE\n",
      "                        tile size to use during both conversion steps\n",
      "  -p PLANE, --plane PLANE\n",
      "                        which image plane to convert image from\n",
      "  -q QUALITY, --quality QUALITY\n",
      "                        compression quality used with JPEG compression\n",
      "  -m MAX_MEM, --max-mem MAX_MEM\n",
      "                        set maximum memory in the java vm\n",
      "  -v VERBOSE, --verbose VERBOSE\n",
      "                        set verbosity level\n"
     ]
    }
   ],
   "source": [
    "# Test that vsi2tif tool can be accessed from terminal\n",
    "!vsi2tif -h"
   ]
  },
  {
   "cell_type": "code",
   "execution_count": 8,
   "metadata": {},
   "outputs": [
    {
     "name": "stdout",
     "output_type": "stream",
     "text": [
      "INFO:root:Performing single conversion...\n",
      "Traceback (most recent call last):\n",
      "  File \"/Users/andreped/workspace/vsi2tif/venv/bin/vsi2tif\", line 8, in <module>\n",
      "    sys.exit(main())\n",
      "  File \"/Users/andreped/workspace/vsi2tif/venv/lib/python3.10/site-packages/vsi2tif/vsi2tif.py\", line 47, in main\n",
      "    cellsens2tif_single(\n",
      "  File \"/Users/andreped/workspace/vsi2tif/venv/lib/python3.10/site-packages/vsi2tif/src/benchmark.py\", line 9, in wrapper\n",
      "    result = func(*args, **kwargs)\n",
      "  File \"/Users/andreped/workspace/vsi2tif/venv/lib/python3.10/site-packages/vsi2tif/src/process.py\", line 21, in cellsens2tif_single\n",
      "    cellsens2tif(input_path, output_path, bfconvert, compression, tz, plane, quality, max_mem, verbose)\n",
      "  File \"/Users/andreped/workspace/vsi2tif/venv/lib/python3.10/site-packages/vsi2tif/src/convert.py\", line 66, in cellsens2tif\n",
      "    raw2tif(bigtiff_path, output_path, compression, quality, verbose)\n",
      "  File \"/Users/andreped/workspace/vsi2tif/venv/lib/python3.10/site-packages/vsi2tif/src/convert.py\", line 35, in raw2tif\n",
      "    raise FileNotFoundError(f\"Output directory not found at: {os.path.dirname}\")\n",
      "FileNotFoundError: Output directory not found at: <function dirname at 0x100e6f010>\n"
     ]
    }
   ],
   "source": [
    "# Convert a single WSI to Generic TIFF with reduced verbosity\n",
    "!vsi2tif -i ./OS-2.vsi -o ./OS-2.tif -b bftools/bfconvert -v 0"
   ]
  }
 ],
 "metadata": {
  "kernelspec": {
   "display_name": "venv",
   "language": "python",
   "name": "python3"
  },
  "language_info": {
   "codemirror_mode": {
    "name": "ipython",
    "version": 3
   },
   "file_extension": ".py",
   "mimetype": "text/x-python",
   "name": "python",
   "nbconvert_exporter": "python",
   "pygments_lexer": "ipython3",
   "version": "3.10.11"
  }
 },
 "nbformat": 4,
 "nbformat_minor": 2
}
